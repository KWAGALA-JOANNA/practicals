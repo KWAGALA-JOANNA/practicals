{
 "cells": [
  {
   "cell_type": "markdown",
   "metadata": {},
   "source": [
    "DIMENSIONAL ARRAYS"
   ]
  },
  {
   "cell_type": "code",
   "execution_count": 2,
   "metadata": {},
   "outputs": [],
   "source": [
    "import numpy as np"
   ]
  },
  {
   "cell_type": "code",
   "execution_count": 10,
   "metadata": {},
   "outputs": [
    {
     "name": "stdout",
     "output_type": "stream",
     "text": [
      "[[ 0  1  2]\n",
      " [10 11 12]]\n",
      "(2, 3)\n",
      "6\n",
      "2\n",
      "12\n",
      "[[ 0  1  2]\n",
      " [10 11 -1]]\n",
      "[10 11 -1]\n"
     ]
    }
   ],
   "source": [
    "a = np.array([[0, 1, 2],\n",
    "              [10, 11, 12]])\n",
    "print(a)\n",
    "print(a.shape) #returns the number of rows and columns\n",
    "print(a.size) #returns the number of elements in the array (Element count)\n",
    "print(a.ndim) # returns the number of dimensions the array holds in this case they're 2\n",
    "print(a[1,2]) # this will return a number in row 2 and in index 2 which is 12\n",
    "#this will index row 1 as 0 and column 3 as index 2 thus row 2 is index 1 thus a[1,2]\n",
    "a[1,2] = -1 #here you will replace 12 with -1\n",
    "print(a)\n",
    "\n",
    "#address second row (oneth) using single index\n",
    "print(a[1]) #returns the second row\n"
   ]
  }
 ],
 "metadata": {
  "kernelspec": {
   "display_name": "Python 3",
   "language": "python",
   "name": "python3"
  },
  "language_info": {
   "codemirror_mode": {
    "name": "ipython",
    "version": 3
   },
   "file_extension": ".py",
   "mimetype": "text/x-python",
   "name": "python",
   "nbconvert_exporter": "python",
   "pygments_lexer": "ipython3",
   "version": "3.11.4"
  },
  "orig_nbformat": 4
 },
 "nbformat": 4,
 "nbformat_minor": 2
}
